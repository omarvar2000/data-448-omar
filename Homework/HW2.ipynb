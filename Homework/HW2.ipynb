{
 "cells": [
  {
   "cell_type": "code",
   "execution_count": 12,
   "id": "d014f486-16d5-41ab-bc7f-cbd97e40052c",
   "metadata": {},
   "outputs": [
    {
     "data": {
      "text/html": [
       "<div>\n",
       "<style scoped>\n",
       "    .dataframe tbody tr th:only-of-type {\n",
       "        vertical-align: middle;\n",
       "    }\n",
       "\n",
       "    .dataframe tbody tr th {\n",
       "        vertical-align: top;\n",
       "    }\n",
       "\n",
       "    .dataframe thead th {\n",
       "        text-align: right;\n",
       "    }\n",
       "</style>\n",
       "<table border=\"1\" class=\"dataframe\">\n",
       "  <thead>\n",
       "    <tr style=\"text-align: right;\">\n",
       "      <th></th>\n",
       "      <th>Fresh</th>\n",
       "      <th>Milk</th>\n",
       "      <th>Grocery</th>\n",
       "      <th>Frozen</th>\n",
       "      <th>Detergents_Paper</th>\n",
       "      <th>Delicassen</th>\n",
       "      <th>Channel</th>\n",
       "    </tr>\n",
       "  </thead>\n",
       "  <tbody>\n",
       "    <tr>\n",
       "      <th>0</th>\n",
       "      <td>6623.613537</td>\n",
       "      <td>5513.093240</td>\n",
       "      <td>6019.057354</td>\n",
       "      <td>5669.568008</td>\n",
       "      <td>5898.660607</td>\n",
       "      <td>5179.234947</td>\n",
       "      <td>2</td>\n",
       "    </tr>\n",
       "    <tr>\n",
       "      <th>1</th>\n",
       "      <td>5642.542497</td>\n",
       "      <td>5829.866565</td>\n",
       "      <td>3960.339943</td>\n",
       "      <td>4270.020548</td>\n",
       "      <td>3498.818262</td>\n",
       "      <td>4327.423268</td>\n",
       "      <td>2</td>\n",
       "    </tr>\n",
       "    <tr>\n",
       "      <th>2</th>\n",
       "      <td>5292.078175</td>\n",
       "      <td>6634.370556</td>\n",
       "      <td>4444.335138</td>\n",
       "      <td>4888.286021</td>\n",
       "      <td>3265.391352</td>\n",
       "      <td>4887.560190</td>\n",
       "      <td>2</td>\n",
       "    </tr>\n",
       "    <tr>\n",
       "      <th>3</th>\n",
       "      <td>5595.227928</td>\n",
       "      <td>4754.860698</td>\n",
       "      <td>2977.856511</td>\n",
       "      <td>3462.490957</td>\n",
       "      <td>3609.264559</td>\n",
       "      <td>4268.641413</td>\n",
       "      <td>0</td>\n",
       "    </tr>\n",
       "    <tr>\n",
       "      <th>4</th>\n",
       "      <td>5126.693267</td>\n",
       "      <td>6009.649079</td>\n",
       "      <td>3811.569943</td>\n",
       "      <td>4744.115976</td>\n",
       "      <td>3829.516831</td>\n",
       "      <td>5097.491872</td>\n",
       "      <td>2</td>\n",
       "    </tr>\n",
       "  </tbody>\n",
       "</table>\n",
       "</div>"
      ],
      "text/plain": [
       "         Fresh         Milk      Grocery       Frozen  Detergents_Paper  \\\n",
       "0  6623.613537  5513.093240  6019.057354  5669.568008       5898.660607   \n",
       "1  5642.542497  5829.866565  3960.339943  4270.020548       3498.818262   \n",
       "2  5292.078175  6634.370556  4444.335138  4888.286021       3265.391352   \n",
       "3  5595.227928  4754.860698  2977.856511  3462.490957       3609.264559   \n",
       "4  5126.693267  6009.649079  3811.569943  4744.115976       3829.516831   \n",
       "\n",
       "    Delicassen  Channel  \n",
       "0  5179.234947        2  \n",
       "1  4327.423268        2  \n",
       "2  4887.560190        2  \n",
       "3  4268.641413        0  \n",
       "4  5097.491872        2  "
      ]
     },
     "execution_count": 12,
     "metadata": {},
     "output_type": "execute_result"
    }
   ],
   "source": [
    "import boto3\n",
    "import pandas as pd\n",
    "import numpy as np\n",
    "import matplotlib.pyplot as plt\n",
    "import seaborn as sns\n",
    "\n",
    "from sklearn.preprocessing import MinMaxScaler\n",
    "from sklearn.model_selection import train_test_split\n",
    "from sklearn.ensemble import RandomForestClassifier\n",
    "from sklearn.svm import SVC\n",
    "from sklearn.multiclass import OneVsRestClassifier, OneVsOneClassifier\n",
    "from sklearn.metrics import confusion_matrix, classification_report\n",
    "\n",
    "## Defining the bucket\n",
    "s3 = boto3.resource('s3')\n",
    "bucket_name = 'omar-vargas-bucket'\n",
    "bucket = s3.Bucket(bucket_name)\n",
    "\n",
    "## Defining the csv file\n",
    "file_key = 'MarketingData.csv'\n",
    "\n",
    "bucket_object = bucket.Object(file_key)\n",
    "file_object = bucket_object.get()\n",
    "file_content_stream = file_object.get('Body')\n",
    "\n",
    "## Reading the csv file\n",
    "marketing_data = pd.read_csv(file_content_stream)\n",
    "marketing_data.head()"
   ]
  },
  {
   "cell_type": "code",
   "execution_count": 13,
   "id": "c44de5d1-9340-4722-babc-25f53d7d0fbe",
   "metadata": {},
   "outputs": [
    {
     "data": {
      "text/plain": [
       "0    5007\n",
       "3    5002\n",
       "1    5001\n",
       "2    4990\n",
       "Name: Channel, dtype: int64"
      ]
     },
     "execution_count": 13,
     "metadata": {},
     "output_type": "execute_result"
    }
   ],
   "source": [
    "marketing_data['Channel'].value_counts()"
   ]
  },
  {
   "cell_type": "code",
   "execution_count": 14,
   "id": "d0aa11f0-12c9-4598-a5b0-9e6aabfd0529",
   "metadata": {},
   "outputs": [
    {
     "data": {
      "text/plain": [
       "<AxesSubplot: xlabel='Channel', ylabel='Fresh'>"
      ]
     },
     "execution_count": 14,
     "metadata": {},
     "output_type": "execute_result"
    },
    {
     "data": {
      "image/png": "[encoded data removed]",
      "text/plain": [
       "<Figure size 640x480 with 1 Axes>"
      ]
     },
     "metadata": {},
     "output_type": "display_data"
    }
   ],
   "source": [
    "## Creating visualization of Fresh by Channel\n",
    "sns.boxplot(x = 'Channel', y = 'Fresh', hue = 'Channel', data = marketing_data)"
   ]
  },
  {
   "cell_type": "code",
   "execution_count": null,
   "id": "80fda244-a59a-49d2-a8c1-e42e6e403c14",
   "metadata": {},
   "outputs": [],
   "source": [
    "# From the above plot, we can see that fresh items are least purchased from the TV while Reatil and ROad Show have similar means.\n",
    "# Although Reatil has a smaller range and more outliers."
   ]
  },
  {
   "cell_type": "code",
   "execution_count": 15,
   "id": "dc0fe0ad-f1ca-47f5-8a43-5c57916a470c",
   "metadata": {},
   "outputs": [
    {
     "data": {
      "text/plain": [
       "<AxesSubplot: xlabel='Channel', ylabel='Frozen'>"
      ]
     },
     "execution_count": 15,
     "metadata": {},
     "output_type": "execute_result"
    },
    {
     "data": {
      "image/png": "[encoded data removed]",
      "text/plain": [
       "<Figure size 640x480 with 1 Axes>"
      ]
     },
     "metadata": {},
     "output_type": "display_data"
    }
   ],
   "source": [
    "## Creating visualization of Frozen by Channel\n",
    "sns.boxplot(x = 'Channel', y = 'Frozen', hue = 'Channel', data = marketing_data)"
   ]
  },
  {
   "cell_type": "code",
   "execution_count": null,
   "id": "00af522f-b22f-4544-b328-3efd7b1aefee",
   "metadata": {},
   "outputs": [],
   "source": [
    "# From the above chart, we can see that Retail has the lowest sales of Frozen items and Tv has the highest sales"
   ]
  },
  {
   "cell_type": "code",
   "execution_count": 16,
   "id": "c9e85cf8-c6c9-48ea-8ca4-fcec7b3b2cf6",
   "metadata": {},
   "outputs": [],
   "source": [
    "#Defining input and target variables\n",
    "X = marketing_data.drop(columns=['Channel'], axis=1)\n",
    "Y = marketing_data['Channel']\n",
    "\n",
    "## Splitting the data\n",
    "X_train, X_test, Y_train, Y_test= train_test_split(X, Y, test_size = .2, stratify = Y)"
   ]
  },
  {
   "cell_type": "code",
   "execution_count": 17,
   "id": "f1d3dc4f-ba75-4edd-822e-bbd75e2a1af3",
   "metadata": {},
   "outputs": [],
   "source": [
    "#Min-Max transformation\n",
    "scaler = MinMaxScaler()\n",
    "X_train = scaler.fit_transform(X_train)\n",
    "X_test = scaler.fit_transform(X_test)"
   ]
  },
  {
   "cell_type": "code",
   "execution_count": 18,
   "id": "b54a25f0-02bb-49db-9f30-48b49bacd592",
   "metadata": {},
   "outputs": [
    {
     "name": "stdout",
     "output_type": "stream",
     "text": [
      "[[  0 764 115  86  36]\n",
      " [  0 105 680 121  94]\n",
      " [  0 162  99 718  19]\n",
      " [  0  85  45  89 782]\n",
      " [  0   0   0   0   0]]\n",
      "              precision    recall  f1-score   support\n",
      "\n",
      "           0       0.00      0.00      0.00      1001\n",
      "           1       0.09      0.10      0.10      1000\n",
      "           2       0.11      0.10      0.10       998\n",
      "           3       0.09      0.09      0.09      1001\n",
      "           4       0.00      0.00      0.00         0\n",
      "\n",
      "    accuracy                           0.07      4000\n",
      "   macro avg       0.06      0.06      0.06      4000\n",
      "weighted avg       0.07      0.07      0.07      4000\n",
      "\n"
     ]
    },
    {
     "name": "stderr",
     "output_type": "stream",
     "text": [
      "/home/ec2-user/anaconda3/envs/python3/lib/python3.10/site-packages/sklearn/metrics/_classification.py:1334: UndefinedMetricWarning: Precision and F-score are ill-defined and being set to 0.0 in labels with no predicted samples. Use `zero_division` parameter to control this behavior.\n",
      "  _warn_prf(average, modifier, msg_start, len(result))\n",
      "/home/ec2-user/anaconda3/envs/python3/lib/python3.10/site-packages/sklearn/metrics/_classification.py:1334: UndefinedMetricWarning: Recall and F-score are ill-defined and being set to 0.0 in labels with no true samples. Use `zero_division` parameter to control this behavior.\n",
      "  _warn_prf(average, modifier, msg_start, len(result))\n",
      "/home/ec2-user/anaconda3/envs/python3/lib/python3.10/site-packages/sklearn/metrics/_classification.py:1334: UndefinedMetricWarning: Precision and F-score are ill-defined and being set to 0.0 in labels with no predicted samples. Use `zero_division` parameter to control this behavior.\n",
      "  _warn_prf(average, modifier, msg_start, len(result))\n",
      "/home/ec2-user/anaconda3/envs/python3/lib/python3.10/site-packages/sklearn/metrics/_classification.py:1334: UndefinedMetricWarning: Recall and F-score are ill-defined and being set to 0.0 in labels with no true samples. Use `zero_division` parameter to control this behavior.\n",
      "  _warn_prf(average, modifier, msg_start, len(result))\n",
      "/home/ec2-user/anaconda3/envs/python3/lib/python3.10/site-packages/sklearn/metrics/_classification.py:1334: UndefinedMetricWarning: Precision and F-score are ill-defined and being set to 0.0 in labels with no predicted samples. Use `zero_division` parameter to control this behavior.\n",
      "  _warn_prf(average, modifier, msg_start, len(result))\n",
      "/home/ec2-user/anaconda3/envs/python3/lib/python3.10/site-packages/sklearn/metrics/_classification.py:1334: UndefinedMetricWarning: Recall and F-score are ill-defined and being set to 0.0 in labels with no true samples. Use `zero_division` parameter to control this behavior.\n",
      "  _warn_prf(average, modifier, msg_start, len(result))\n"
     ]
    }
   ],
   "source": [
    "## OneVSRest RF model\n",
    "one_vs_all_RF = OneVsRestClassifier(estimator = RandomForestClassifier(n_estimators = 500, max_depth = 3)).fit(X_train, Y_train)\n",
    "\n",
    "## Predicting on test\n",
    "one_vs_all_RF_pred = one_vs_all_RF.predict_proba(X_test)\n",
    "one_vs_all_RF_pred = np.argmax(one_vs_all_RF_pred, axis = 1) + 1\n",
    "\n",
    "print(confusion_matrix(Y_test, one_vs_all_RF_pred))\n",
    "print(classification_report(Y_test, one_vs_all_RF_pred))"
   ]
  },
  {
   "cell_type": "code",
   "execution_count": 21,
   "id": "706e9742-e05a-4abb-baeb-76c10a54cba3",
   "metadata": {},
   "outputs": [
    {
     "name": "stdout",
     "output_type": "stream",
     "text": [
      "[[  0 833  98  49  21]\n",
      " [  0  97 791  57  55]\n",
      " [  0 116  97 773  12]\n",
      " [  0  64 111  61 765]\n",
      " [  0   0   0   0   0]]\n",
      "              precision    recall  f1-score   support\n",
      "\n",
      "           0       0.00      0.00      0.00      1001\n",
      "           1       0.09      0.10      0.09      1000\n",
      "           2       0.09      0.10      0.09       998\n",
      "           3       0.06      0.06      0.06      1001\n",
      "           4       0.00      0.00      0.00         0\n",
      "\n",
      "    accuracy                           0.06      4000\n",
      "   macro avg       0.05      0.05      0.05      4000\n",
      "weighted avg       0.06      0.06      0.06      4000\n",
      "\n"
     ]
    },
    {
     "name": "stderr",
     "output_type": "stream",
     "text": [
      "/home/ec2-user/anaconda3/envs/python3/lib/python3.10/site-packages/sklearn/metrics/_classification.py:1334: UndefinedMetricWarning: Precision and F-score are ill-defined and being set to 0.0 in labels with no predicted samples. Use `zero_division` parameter to control this behavior.\n",
      "  _warn_prf(average, modifier, msg_start, len(result))\n",
      "/home/ec2-user/anaconda3/envs/python3/lib/python3.10/site-packages/sklearn/metrics/_classification.py:1334: UndefinedMetricWarning: Recall and F-score are ill-defined and being set to 0.0 in labels with no true samples. Use `zero_division` parameter to control this behavior.\n",
      "  _warn_prf(average, modifier, msg_start, len(result))\n",
      "/home/ec2-user/anaconda3/envs/python3/lib/python3.10/site-packages/sklearn/metrics/_classification.py:1334: UndefinedMetricWarning: Precision and F-score are ill-defined and being set to 0.0 in labels with no predicted samples. Use `zero_division` parameter to control this behavior.\n",
      "  _warn_prf(average, modifier, msg_start, len(result))\n",
      "/home/ec2-user/anaconda3/envs/python3/lib/python3.10/site-packages/sklearn/metrics/_classification.py:1334: UndefinedMetricWarning: Recall and F-score are ill-defined and being set to 0.0 in labels with no true samples. Use `zero_division` parameter to control this behavior.\n",
      "  _warn_prf(average, modifier, msg_start, len(result))\n",
      "/home/ec2-user/anaconda3/envs/python3/lib/python3.10/site-packages/sklearn/metrics/_classification.py:1334: UndefinedMetricWarning: Precision and F-score are ill-defined and being set to 0.0 in labels with no predicted samples. Use `zero_division` parameter to control this behavior.\n",
      "  _warn_prf(average, modifier, msg_start, len(result))\n",
      "/home/ec2-user/anaconda3/envs/python3/lib/python3.10/site-packages/sklearn/metrics/_classification.py:1334: UndefinedMetricWarning: Recall and F-score are ill-defined and being set to 0.0 in labels with no true samples. Use `zero_division` parameter to control this behavior.\n",
      "  _warn_prf(average, modifier, msg_start, len(result))\n"
     ]
    }
   ],
   "source": [
    "## One vs Rest SVM\n",
    "one_vs_all_svm = OneVsRestClassifier(estimator = SVC(kernel = 'rbf', C = 0.1, probability = True)).fit(X_train, Y_train)\n",
    "\n",
    "## Predicting on test\n",
    "one_vs_all_svm_pred = one_vs_all_svm.predict_proba(X_test)\n",
    "one_vs_all_svm_pred = np.argmax(one_vs_all_svm_pred, axis = 1) + 1\n",
    "\n",
    "print(confusion_matrix(Y_test, one_vs_all_svm_pred))\n",
    "print(classification_report(Y_test, one_vs_all_svm_pred))"
   ]
  },
  {
   "cell_type": "code",
   "execution_count": 22,
   "id": "303e5511-8678-4b40-b118-ba2dd0033757",
   "metadata": {},
   "outputs": [
    {
     "name": "stdout",
     "output_type": "stream",
     "text": [
      "[[836  94  42  29]\n",
      " [ 88 816  53  43]\n",
      " [103  61 822  12]\n",
      " [ 72 142  43 744]]\n",
      "              precision    recall  f1-score   support\n",
      "\n",
      "           0       0.76      0.84      0.80      1001\n",
      "           1       0.73      0.82      0.77      1000\n",
      "           2       0.86      0.82      0.84       998\n",
      "           3       0.90      0.74      0.81      1001\n",
      "\n",
      "    accuracy                           0.80      4000\n",
      "   macro avg       0.81      0.80      0.81      4000\n",
      "weighted avg       0.81      0.80      0.81      4000\n",
      "\n"
     ]
    }
   ],
   "source": [
    "## One vs One SVM \n",
    "one_vs_one_svm = OneVsOneClassifier(estimator = SVC(kernel = 'rbf', C = 0.1, probability = True)).fit(X_train, Y_train)\n",
    "\n",
    "## Predicting on test\n",
    "one_vs_one_svm_pred = one_vs_one_svm.predict(X_test)\n",
    "\n",
    "print(confusion_matrix(Y_test, one_vs_one_svm_pred))\n",
    "print(classification_report(Y_test, one_vs_one_svm_pred))"
   ]
  },
  {
   "cell_type": "code",
   "execution_count": null,
   "id": "b0ce8c66-a54b-4203-9449-e7516f4f0bd8",
   "metadata": {},
   "outputs": [],
   "source": [
    "# Based on my results, I would use the OneVsOne with SVM model to predict channel. In general it seemed the OneVsRest strategy\n",
    "# was completely ineffective as I tried using RF and SVM with it and both were horrific results."
   ]
  }
 ],
 "metadata": {
  "kernelspec": {
   "display_name": "conda_python3",
   "language": "python",
   "name": "conda_python3"
  },
  "language_info": {
   "codemirror_mode": {
    "name": "ipython",
    "version": 3
   },
   "file_extension": ".py",
   "mimetype": "text/x-python",
   "name": "python",
   "nbconvert_exporter": "python",
   "pygments_lexer": "ipython3",
   "version": "3.10.6"
  }
 },
 "nbformat": 4,
 "nbformat_minor": 5
}
