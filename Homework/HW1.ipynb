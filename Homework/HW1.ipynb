{
 "cells": [
  {
   "cell_type": "code",
   "execution_count": 1,
   "id": "3acd43ca-240a-4491-9b2c-71d2e03ca356",
   "metadata": {},
   "outputs": [
    {
     "name": "stdout",
     "output_type": "stream",
     "text": [
      "Looking in indexes: https://pypi.org/simple, https://pip.repos.neuron.amazonaws.com\n",
      "Collecting imblearn\n",
      "  Downloading imblearn-0.0-py2.py3-none-any.whl (1.9 kB)\n",
      "Collecting imbalanced-learn\n",
      "  Downloading imbalanced_learn-0.10.1-py3-none-any.whl (226 kB)\n",
      "\u001b[2K     \u001b[90m━━━━━━━━━━━━━━━━━━━━━━━━━━━━━━━━━━━━━━━\u001b[0m \u001b[32m226.0/226.0 kB\u001b[0m \u001b[31m3.0 MB/s\u001b[0m eta \u001b[36m0:00:00\u001b[0m00:01\u001b[0m\n",
      "\u001b[?25hRequirement already satisfied: numpy>=1.17.3 in /home/ec2-user/anaconda3/envs/python3/lib/python3.10/site-packages (from imbalanced-learn->imblearn) (1.22.4)\n",
      "Requirement already satisfied: scipy>=1.3.2 in /home/ec2-user/anaconda3/envs/python3/lib/python3.10/site-packages (from imbalanced-learn->imblearn) (1.9.3)\n",
      "Requirement already satisfied: threadpoolctl>=2.0.0 in /home/ec2-user/anaconda3/envs/python3/lib/python3.10/site-packages (from imbalanced-learn->imblearn) (3.1.0)\n",
      "Requirement already satisfied: scikit-learn>=1.0.2 in /home/ec2-user/anaconda3/envs/python3/lib/python3.10/site-packages (from imbalanced-learn->imblearn) (1.1.3)\n",
      "Requirement already satisfied: joblib>=1.1.1 in /home/ec2-user/anaconda3/envs/python3/lib/python3.10/site-packages (from imbalanced-learn->imblearn) (1.2.0)\n",
      "Installing collected packages: imbalanced-learn, imblearn\n",
      "Successfully installed imbalanced-learn-0.10.1 imblearn-0.0\n",
      "Note: you may need to restart the kernel to use updated packages.\n"
     ]
    }
   ],
   "source": [
    "pip install imblearn"
   ]
  },
  {
   "cell_type": "code",
   "execution_count": 14,
   "id": "747f01c8-6dbd-4d48-9ef9-076e203da068",
   "metadata": {},
   "outputs": [
    {
     "data": {
      "text/html": [
       "<div>\n",
       "<style scoped>\n",
       "    .dataframe tbody tr th:only-of-type {\n",
       "        vertical-align: middle;\n",
       "    }\n",
       "\n",
       "    .dataframe tbody tr th {\n",
       "        vertical-align: top;\n",
       "    }\n",
       "\n",
       "    .dataframe thead th {\n",
       "        text-align: right;\n",
       "    }\n",
       "</style>\n",
       "<table border=\"1\" class=\"dataframe\">\n",
       "  <thead>\n",
       "    <tr style=\"text-align: right;\">\n",
       "      <th></th>\n",
       "      <th>trustLevel</th>\n",
       "      <th>totalScanTimeInSeconds</th>\n",
       "      <th>grandTotal</th>\n",
       "      <th>lineItemVoids</th>\n",
       "      <th>scansWithoutRegistration</th>\n",
       "      <th>quantityModifications</th>\n",
       "      <th>scannedLineItemsPerSecond</th>\n",
       "      <th>valuePerSecond</th>\n",
       "      <th>lineItemVoidsPerPosition</th>\n",
       "      <th>fraud</th>\n",
       "    </tr>\n",
       "  </thead>\n",
       "  <tbody>\n",
       "    <tr>\n",
       "      <th>0</th>\n",
       "      <td>5</td>\n",
       "      <td>1054</td>\n",
       "      <td>54.70</td>\n",
       "      <td>7</td>\n",
       "      <td>0</td>\n",
       "      <td>3</td>\n",
       "      <td>0.027514</td>\n",
       "      <td>0.051898</td>\n",
       "      <td>0.241379</td>\n",
       "      <td>0</td>\n",
       "    </tr>\n",
       "    <tr>\n",
       "      <th>1</th>\n",
       "      <td>3</td>\n",
       "      <td>108</td>\n",
       "      <td>27.36</td>\n",
       "      <td>5</td>\n",
       "      <td>2</td>\n",
       "      <td>4</td>\n",
       "      <td>0.129630</td>\n",
       "      <td>0.253333</td>\n",
       "      <td>0.357143</td>\n",
       "      <td>0</td>\n",
       "    </tr>\n",
       "    <tr>\n",
       "      <th>2</th>\n",
       "      <td>3</td>\n",
       "      <td>1516</td>\n",
       "      <td>62.16</td>\n",
       "      <td>3</td>\n",
       "      <td>10</td>\n",
       "      <td>5</td>\n",
       "      <td>0.008575</td>\n",
       "      <td>0.041003</td>\n",
       "      <td>0.230769</td>\n",
       "      <td>0</td>\n",
       "    </tr>\n",
       "    <tr>\n",
       "      <th>3</th>\n",
       "      <td>6</td>\n",
       "      <td>1791</td>\n",
       "      <td>92.31</td>\n",
       "      <td>8</td>\n",
       "      <td>4</td>\n",
       "      <td>4</td>\n",
       "      <td>0.016192</td>\n",
       "      <td>0.051541</td>\n",
       "      <td>0.275862</td>\n",
       "      <td>0</td>\n",
       "    </tr>\n",
       "    <tr>\n",
       "      <th>4</th>\n",
       "      <td>5</td>\n",
       "      <td>430</td>\n",
       "      <td>81.53</td>\n",
       "      <td>3</td>\n",
       "      <td>7</td>\n",
       "      <td>2</td>\n",
       "      <td>0.062791</td>\n",
       "      <td>0.189605</td>\n",
       "      <td>0.111111</td>\n",
       "      <td>0</td>\n",
       "    </tr>\n",
       "  </tbody>\n",
       "</table>\n",
       "</div>"
      ],
      "text/plain": [
       "   trustLevel  totalScanTimeInSeconds  grandTotal  lineItemVoids  \\\n",
       "0           5                    1054       54.70              7   \n",
       "1           3                     108       27.36              5   \n",
       "2           3                    1516       62.16              3   \n",
       "3           6                    1791       92.31              8   \n",
       "4           5                     430       81.53              3   \n",
       "\n",
       "   scansWithoutRegistration  quantityModifications  scannedLineItemsPerSecond  \\\n",
       "0                         0                      3                   0.027514   \n",
       "1                         2                      4                   0.129630   \n",
       "2                        10                      5                   0.008575   \n",
       "3                         4                      4                   0.016192   \n",
       "4                         7                      2                   0.062791   \n",
       "\n",
       "   valuePerSecond  lineItemVoidsPerPosition  fraud  \n",
       "0        0.051898                  0.241379      0  \n",
       "1        0.253333                  0.357143      0  \n",
       "2        0.041003                  0.230769      0  \n",
       "3        0.051541                  0.275862      0  \n",
       "4        0.189605                  0.111111      0  "
      ]
     },
     "execution_count": 14,
     "metadata": {},
     "output_type": "execute_result"
    }
   ],
   "source": [
    "import boto3\n",
    "import pandas as pd\n",
    "import numpy as np\n",
    "import matplotlib.pyplot as plt\n",
    "from sklearn.model_selection import train_test_split\n",
    "from sklearn.metrics import roc_curve, classification_report, precision_recall_curve\n",
    "from sklearn.ensemble import RandomForestClassifier, AdaBoostClassifier\n",
    "from sklearn.tree import DecisionTreeClassifier\n",
    "\n",
    "## Defining the bucket\n",
    "s3= boto3.resource('s3')\n",
    "bucket_name= 'omar-vargas-bucket'\n",
    "bucket= s3.Bucket(bucket_name)\n",
    "\n",
    "## Defining the csv file\n",
    "file_key= 'train.csv'\n",
    "file_key2= 'test.csv'\n",
    "\n",
    "bucket_object= bucket.Object(file_key)\n",
    "file_object = bucket_object.get()\n",
    "file_content_stream = file_object.get('Body')\n",
    "bucket_object2= bucket.Object(file_key2)\n",
    "file_object2 = bucket_object2.get()\n",
    "file_content_stream2 = file_object2.get('Body')\n",
    "\n",
    "## Reading the csv file\n",
    "train = pd.read_csv(file_content_stream, sep = '|')\n",
    "test = pd.read_csv(file_content_stream2, sep = '|')\n",
    "train.head()\n"
   ]
  },
  {
   "cell_type": "code",
   "execution_count": 15,
   "id": "5fcd8871-140a-49df-afd7-87644d2258dd",
   "metadata": {},
   "outputs": [
    {
     "data": {
      "text/plain": [
       "1879"
      ]
     },
     "execution_count": 15,
     "metadata": {},
     "output_type": "execute_result"
    }
   ],
   "source": [
    "## Reporting train observations\n",
    "len(train)"
   ]
  },
  {
   "cell_type": "code",
   "execution_count": 16,
   "id": "ddeeb388-f63c-43fc-aad2-34d31efafe59",
   "metadata": {},
   "outputs": [
    {
     "data": {
      "text/plain": [
       "498121"
      ]
     },
     "execution_count": 16,
     "metadata": {},
     "output_type": "execute_result"
    }
   ],
   "source": [
    "## Reporting test observations\n",
    "len(test)"
   ]
  },
  {
   "cell_type": "code",
   "execution_count": 17,
   "id": "d67f9055-77b0-4304-8f6a-1eb88cd21fac",
   "metadata": {},
   "outputs": [
    {
     "data": {
      "text/plain": [
       "0    1775\n",
       "1     104\n",
       "Name: fraud, dtype: int64"
      ]
     },
     "execution_count": 17,
     "metadata": {},
     "output_type": "execute_result"
    }
   ],
   "source": [
    "## Frequncy table\n",
    "train['fraud'].value_counts()"
   ]
  },
  {
   "cell_type": "code",
   "execution_count": 38,
   "id": "79bd2e40-8115-42aa-b107-9e2b985837da",
   "metadata": {},
   "outputs": [
    {
     "data": {
      "image/png": "[encoded data removed]",
      "text/plain": [
       "<Figure size 640x480 with 1 Axes>"
      ]
     },
     "metadata": {},
     "output_type": "display_data"
    }
   ],
   "source": [
    "## Plotting trustLevel\n",
    "plt.hist(train['trustLevel'], bins = 11)\n",
    "plt.xlabel('Trust scale')\n",
    "plt.ylabel('# of People')\n",
    "plt.show();"
   ]
  },
  {
   "cell_type": "code",
   "execution_count": 32,
   "id": "64bb0322-7813-4d4b-b07d-23087fd2874d",
   "metadata": {},
   "outputs": [
    {
     "data": {
      "image/png": "[encoded data removed]",
      "text/plain": [
       "<Figure size 640x480 with 1 Axes>"
      ]
     },
     "metadata": {},
     "output_type": "display_data"
    }
   ],
   "source": [
    "## Plotting valuePerSecond\n",
    "plt.plot(train['valuePerSecond'])\n",
    "plt.xlabel('Time (seconds)')\n",
    "plt.ylabel('Value of Items ($)')\n",
    "plt.show();"
   ]
  },
  {
   "cell_type": "code",
   "execution_count": 30,
   "id": "32beb8f4-f288-4790-9ff9-75405bada5e6",
   "metadata": {},
   "outputs": [
    {
     "data": {
      "image/png": "[encoded data removed]",
      "text/plain": [
       "<Figure size 640x480 with 1 Axes>"
      ]
     },
     "metadata": {},
     "output_type": "display_data"
    }
   ],
   "source": [
    "## Plotting scannedLineItemsPerSecond\n",
    "plt.plot(train['scannedLineItemsPerSecond'])\n",
    "plt.xlabel('Time (seconds)')\n",
    "plt.ylabel('Number of Items')\n",
    "plt.show();"
   ]
  },
  {
   "cell_type": "code",
   "execution_count": 40,
   "id": "dbafcf01-65b0-435e-9979-367fa45fa587",
   "metadata": {},
   "outputs": [],
   "source": [
    "## Defining the input and taregt variables\n",
    "X= train[['trustLevel', 'scannedLineItemsPerSecond', 'totalScanTimeInSeconds', 'lineItemVoidsPerPosition', 'valuePerSecond']]\n",
    "Y= train['fraud']\n",
    "\n",
    "## Splitting the data\n",
    "X_train, X_test, Y_train, Y_test= train_test_split(X, Y, test_size = .2, stratify = Y)"
   ]
  },
  {
   "cell_type": "markdown",
   "id": "59668517-6ac7-41c6-852b-ddade1b959b3",
   "metadata": {},
   "source": [
    "Model 1: Random Forest"
   ]
  },
  {
   "cell_type": "code",
   "execution_count": 43,
   "id": "6dc8cd31-a94a-484d-99a4-b7af7dae36d4",
   "metadata": {},
   "outputs": [
    {
     "name": "stdout",
     "output_type": "stream",
     "text": [
      "              precision    recall  f1-score   support\n",
      "\n",
      "           0       0.99      0.96      0.98       355\n",
      "           1       0.57      0.81      0.67        21\n",
      "\n",
      "    accuracy                           0.95       376\n",
      "   macro avg       0.78      0.89      0.82       376\n",
      "weighted avg       0.96      0.95      0.96       376\n",
      "\n"
     ]
    }
   ],
   "source": [
    "## Building the model\n",
    "RF_md = RandomForestClassifier(n_estimators = 500, max_depth = 3).fit(X_train, Y_train)\n",
    "\n",
    "## Predicting on the test\n",
    "RF_pred = RF_md.predict_proba(X_test)[:, 1]\n",
    "\n",
    "## Precision Recall Curve\n",
    "precision, recall, threshold = precision_recall_curve(Y_test, RF_pred)\n",
    "\n",
    "## Finding the optimal threshold, had to take one away from precision and recall as threshold has one less\n",
    "RF_cutoff= pd.DataFrame({'precision': precision[:-1], 'recall': recall[:-1], 'threshold': threshold})\n",
    "\n",
    "## Computing the distance to perfect model\n",
    "RF_cutoff['Distance'] = np.sqrt((1 - RF_cutoff['precision'])**2 + (1 - RF_cutoff['recall'])**2)\n",
    "\n",
    "## Sorting\n",
    "RF_cutoff = RF_cutoff.sort_values(by = 'Distance').reset_index(drop = True)\n",
    "\n",
    "## Changing likelihoods to labels\n",
    "RF_pred_label = np.where(RF_pred < RF_cutoff['threshold'][0], 0, 1)\n",
    "\n",
    "## Classification report\n",
    "print(classification_report(Y_test, RF_pred_label))"
   ]
  },
  {
   "cell_type": "markdown",
   "id": "b8255982-da21-4e0c-a7a4-acaae0bcd07e",
   "metadata": {},
   "source": [
    "Model 2: AdaBoost"
   ]
  },
  {
   "cell_type": "code",
   "execution_count": 44,
   "id": "11044287-ce7e-4b06-81c3-c88e58f00afc",
   "metadata": {},
   "outputs": [
    {
     "name": "stdout",
     "output_type": "stream",
     "text": [
      "              precision    recall  f1-score   support\n",
      "\n",
      "           0       0.99      0.96      0.98       355\n",
      "           1       0.57      0.81      0.67        21\n",
      "\n",
      "    accuracy                           0.95       376\n",
      "   macro avg       0.78      0.89      0.82       376\n",
      "weighted avg       0.96      0.95      0.96       376\n",
      "\n"
     ]
    }
   ],
   "source": [
    "## Building the model\n",
    "Ada_md = AdaBoostClassifier(base_estimator = DecisionTreeClassifier(max_depth = 3), n_estimators = 500, learning_rate = 0.01).fit(X_train, Y_train)\n",
    "\n",
    "## Predicting on the test\n",
    "Ada_pred = RF_md.predict_proba(X_test)[:, 1]\n",
    "\n",
    "## Precision Recall Curve\n",
    "precision, recall, threshold = precision_recall_curve(Y_test, Ada_pred)\n",
    "\n",
    "## Finding the optimal threshold, had to take one away from precision and recall as threshold has one less\n",
    "Ada_cutoff= pd.DataFrame({'precision': precision[:-1], 'recall': recall[:-1], 'threshold': threshold})\n",
    "\n",
    "## Computing the distance to perfect model\n",
    "Ada_cutoff['Distance'] = np.sqrt((1 - Ada_cutoff['precision'])**2 + (1 - Ada_cutoff['recall'])**2)\n",
    "\n",
    "## Sorting\n",
    "Ada_cutoff = Ada_cutoff.sort_values(by = 'Distance').reset_index(drop = True)\n",
    "\n",
    "## Changing likelihoods to labels\n",
    "Ada_pred_label = np.where(Ada_pred < Ada_cutoff['threshold'][0], 0, 1)\n",
    "\n",
    "## Classification report\n",
    "print(classification_report(Y_test, Ada_pred_label))"
   ]
  },
  {
   "cell_type": "code",
   "execution_count": null,
   "id": "8431aa87-6d1c-418a-af61-935906d5ce18",
   "metadata": {},
   "outputs": [],
   "source": [
    "## Based on my results, it would not matter which model I should use to predict Fraud as the scores were the same on everything."
   ]
  }
 ],
 "metadata": {
  "kernelspec": {
   "display_name": "conda_python3",
   "language": "python",
   "name": "conda_python3"
  },
  "language_info": {
   "codemirror_mode": {
    "name": "ipython",
    "version": 3
   },
   "file_extension": ".py",
   "mimetype": "text/x-python",
   "name": "python",
   "nbconvert_exporter": "python",
   "pygments_lexer": "ipython3",
   "version": "3.10.6"
  }
 },
 "nbformat": 4,
 "nbformat_minor": 5
}
