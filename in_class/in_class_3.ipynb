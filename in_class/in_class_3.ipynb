{
 "cells": [
  {
   "cell_type": "code",
   "execution_count": 1,
   "id": "c8dfda02-1567-456b-9a23-76ffa92937b2",
   "metadata": {},
   "outputs": [
    {
     "name": "stdout",
     "output_type": "stream",
     "text": [
      "Looking in indexes: https://pypi.org/simple, https://pip.repos.neuron.amazonaws.com\n",
      "Requirement already satisfied: imblearn in /home/ec2-user/anaconda3/envs/python3/lib/python3.10/site-packages (0.0)\n",
      "Requirement already satisfied: imbalanced-learn in /home/ec2-user/anaconda3/envs/python3/lib/python3.10/site-packages (from imblearn) (0.10.1)\n",
      "Requirement already satisfied: numpy>=1.17.3 in /home/ec2-user/anaconda3/envs/python3/lib/python3.10/site-packages (from imbalanced-learn->imblearn) (1.22.4)\n",
      "Requirement already satisfied: scikit-learn>=1.0.2 in /home/ec2-user/anaconda3/envs/python3/lib/python3.10/site-packages (from imbalanced-learn->imblearn) (1.1.3)\n",
      "Requirement already satisfied: joblib>=1.1.1 in /home/ec2-user/anaconda3/envs/python3/lib/python3.10/site-packages (from imbalanced-learn->imblearn) (1.2.0)\n",
      "Requirement already satisfied: scipy>=1.3.2 in /home/ec2-user/anaconda3/envs/python3/lib/python3.10/site-packages (from imbalanced-learn->imblearn) (1.9.3)\n",
      "Requirement already satisfied: threadpoolctl>=2.0.0 in /home/ec2-user/anaconda3/envs/python3/lib/python3.10/site-packages (from imbalanced-learn->imblearn) (3.1.0)\n",
      "Note: you may need to restart the kernel to use updated packages.\n"
     ]
    }
   ],
   "source": [
    "pip install imblearn"
   ]
  },
  {
   "cell_type": "code",
   "execution_count": 2,
   "id": "8b0163b2-897e-4eed-94d7-c2afa8502043",
   "metadata": {},
   "outputs": [
    {
     "data": {
      "text/html": [
       "<div>\n",
       "<style scoped>\n",
       "    .dataframe tbody tr th:only-of-type {\n",
       "        vertical-align: middle;\n",
       "    }\n",
       "\n",
       "    .dataframe tbody tr th {\n",
       "        vertical-align: top;\n",
       "    }\n",
       "\n",
       "    .dataframe thead th {\n",
       "        text-align: right;\n",
       "    }\n",
       "</style>\n",
       "<table border=\"1\" class=\"dataframe\">\n",
       "  <thead>\n",
       "    <tr style=\"text-align: right;\">\n",
       "      <th></th>\n",
       "      <th>Churn</th>\n",
       "      <th>AccountWeeks</th>\n",
       "      <th>ContractRenewal</th>\n",
       "      <th>DataPlan</th>\n",
       "      <th>DataUsage</th>\n",
       "      <th>CustServCalls</th>\n",
       "      <th>DayMins</th>\n",
       "      <th>DayCalls</th>\n",
       "      <th>MonthlyCharge</th>\n",
       "      <th>OverageFee</th>\n",
       "      <th>RoamMins</th>\n",
       "    </tr>\n",
       "  </thead>\n",
       "  <tbody>\n",
       "    <tr>\n",
       "      <th>0</th>\n",
       "      <td>0</td>\n",
       "      <td>128</td>\n",
       "      <td>1</td>\n",
       "      <td>1</td>\n",
       "      <td>2.7</td>\n",
       "      <td>1</td>\n",
       "      <td>265.1</td>\n",
       "      <td>110</td>\n",
       "      <td>89.0</td>\n",
       "      <td>9.87</td>\n",
       "      <td>10.0</td>\n",
       "    </tr>\n",
       "    <tr>\n",
       "      <th>1</th>\n",
       "      <td>0</td>\n",
       "      <td>107</td>\n",
       "      <td>1</td>\n",
       "      <td>1</td>\n",
       "      <td>3.7</td>\n",
       "      <td>1</td>\n",
       "      <td>161.6</td>\n",
       "      <td>123</td>\n",
       "      <td>82.0</td>\n",
       "      <td>9.78</td>\n",
       "      <td>13.7</td>\n",
       "    </tr>\n",
       "    <tr>\n",
       "      <th>2</th>\n",
       "      <td>0</td>\n",
       "      <td>137</td>\n",
       "      <td>1</td>\n",
       "      <td>0</td>\n",
       "      <td>0.0</td>\n",
       "      <td>0</td>\n",
       "      <td>243.4</td>\n",
       "      <td>114</td>\n",
       "      <td>52.0</td>\n",
       "      <td>6.06</td>\n",
       "      <td>12.2</td>\n",
       "    </tr>\n",
       "    <tr>\n",
       "      <th>3</th>\n",
       "      <td>0</td>\n",
       "      <td>84</td>\n",
       "      <td>0</td>\n",
       "      <td>0</td>\n",
       "      <td>0.0</td>\n",
       "      <td>2</td>\n",
       "      <td>299.4</td>\n",
       "      <td>71</td>\n",
       "      <td>57.0</td>\n",
       "      <td>3.10</td>\n",
       "      <td>6.6</td>\n",
       "    </tr>\n",
       "    <tr>\n",
       "      <th>4</th>\n",
       "      <td>0</td>\n",
       "      <td>75</td>\n",
       "      <td>0</td>\n",
       "      <td>0</td>\n",
       "      <td>0.0</td>\n",
       "      <td>3</td>\n",
       "      <td>166.7</td>\n",
       "      <td>113</td>\n",
       "      <td>41.0</td>\n",
       "      <td>7.42</td>\n",
       "      <td>10.1</td>\n",
       "    </tr>\n",
       "  </tbody>\n",
       "</table>\n",
       "</div>"
      ],
      "text/plain": [
       "   Churn  AccountWeeks  ContractRenewal  DataPlan  DataUsage  CustServCalls  \\\n",
       "0      0           128                1         1        2.7              1   \n",
       "1      0           107                1         1        3.7              1   \n",
       "2      0           137                1         0        0.0              0   \n",
       "3      0            84                0         0        0.0              2   \n",
       "4      0            75                0         0        0.0              3   \n",
       "\n",
       "   DayMins  DayCalls  MonthlyCharge  OverageFee  RoamMins  \n",
       "0    265.1       110           89.0        9.87      10.0  \n",
       "1    161.6       123           82.0        9.78      13.7  \n",
       "2    243.4       114           52.0        6.06      12.2  \n",
       "3    299.4        71           57.0        3.10       6.6  \n",
       "4    166.7       113           41.0        7.42      10.1  "
      ]
     },
     "execution_count": 2,
     "metadata": {},
     "output_type": "execute_result"
    }
   ],
   "source": [
    "import boto3\n",
    "import pandas as pd\n",
    "import numpy as np\n",
    "import matplotlib.pyplot as plt\n",
    "from sklearn.model_selection import train_test_split\n",
    "from imblearn.over_sampling import SMOTE\n",
    "from sklearn.ensemble import RandomForestClassifier, AdaBoostClassifier\n",
    "from sklearn.tree import DecisionTreeClassifier\n",
    "from sklearn.metrics import roc_curve, classification_report\n",
    "\n",
    "## Defining the bucket\n",
    "s3 = boto3.resource('s3')\n",
    "bucket_name = 'omar-vargas-bucket'\n",
    "bucket = s3.Bucket(bucket_name)\n",
    "\n",
    "## Defining the csv file\n",
    "file_key = 'telecom_churn.csv'\n",
    "\n",
    "bucket_object = bucket.Object(file_key)\n",
    "file_object = bucket_object.get()\n",
    "file_content_stream = file_object.get('Body')\n",
    "\n",
    "## Reading the csv file\n",
    "churn_data = pd.read_csv(file_content_stream)\n",
    "churn_data.head()"
   ]
  },
  {
   "cell_type": "code",
   "execution_count": 3,
   "id": "adaadddf-bed9-48d9-ab5e-4c441beff816",
   "metadata": {},
   "outputs": [],
   "source": [
    "## Defining input and target variables\n",
    "X = churn_data[['AccountWeeks', 'ContractRenewal', 'CustServCalls', 'DayMins', 'MonthlyCharge']]\n",
    "Y = churn_data['Churn']\n",
    "\n",
    "## Splitting the data\n",
    "X_train, X_test, Y_train, Y_test = train_test_split(X, Y, test_size = 0.2, stratify = Y)"
   ]
  },
  {
   "cell_type": "code",
   "execution_count": 4,
   "id": "2e5e8be7-8f00-4241-bc65-cea99cbd4d63",
   "metadata": {},
   "outputs": [],
   "source": [
    "## Running smote\n",
    "X_smote, Y_smote = SMOTE().fit_resample(X_train, Y_train)"
   ]
  },
  {
   "cell_type": "markdown",
   "id": "2d6c3efc-a258-46a1-82ff-a8e445acdf51",
   "metadata": {},
   "source": [
    "Random Forest"
   ]
  },
  {
   "cell_type": "code",
   "execution_count": 5,
   "id": "30530b58-92c5-4a69-9902-0996a715fdd9",
   "metadata": {},
   "outputs": [
    {
     "name": "stdout",
     "output_type": "stream",
     "text": [
      "              precision    recall  f1-score   support\n",
      "\n",
      "           0       0.98      0.87      0.92       570\n",
      "           1       0.54      0.89      0.67        97\n",
      "\n",
      "    accuracy                           0.87       667\n",
      "   macro avg       0.76      0.88      0.80       667\n",
      "weighted avg       0.91      0.87      0.89       667\n",
      "\n"
     ]
    }
   ],
   "source": [
    "## Building the model\n",
    "RF_md = RandomForestClassifier(n_estimators = 500, max_depth = 3).fit(X_smote, Y_smote)\n",
    "\n",
    "## Predicting on the test\n",
    "RF_pred = RF_md.predict_proba(X_test)[:, 1]\n",
    "\n",
    "## ROC\n",
    "fpr, tpr, threshold = roc_curve(Y_test, RF_pred)\n",
    "\n",
    "## Finding the optimal cutoff\n",
    "RF_cutoff = pd.DataFrame({'FPR': fpr, 'TPR': tpr, 'Cutoff': threshold})\n",
    "\n",
    "## Computing the distance to perfect model\n",
    "RF_cutoff['Distance'] = np.sqrt(RF_cutoff['FPR']**2 + (1 - RF_cutoff['TPR'])**2)\n",
    "\n",
    "## Sorting\n",
    "RF_cutoff = RF_cutoff.sort_values(by = 'Distance').reset_index(drop = True)\n",
    "\n",
    "## Changing likelihoods to labels\n",
    "RF_pred_label = np.where(RF_pred < RF_cutoff['Cutoff'][0], 0, 1)\n",
    "\n",
    "## Classification report\n",
    "print(classification_report(Y_test, RF_pred_label))"
   ]
  },
  {
   "cell_type": "markdown",
   "id": "b9404572-74e9-4dea-a95c-35fd63c5c582",
   "metadata": {},
   "source": [
    "AdaBoost"
   ]
  },
  {
   "cell_type": "code",
   "execution_count": 6,
   "id": "be9b23bf-64b6-413a-a355-fed3e0956881",
   "metadata": {},
   "outputs": [
    {
     "name": "stdout",
     "output_type": "stream",
     "text": [
      "              precision    recall  f1-score   support\n",
      "\n",
      "           0       0.97      0.90      0.94       570\n",
      "           1       0.59      0.86      0.70        97\n",
      "\n",
      "    accuracy                           0.89       667\n",
      "   macro avg       0.78      0.88      0.82       667\n",
      "weighted avg       0.92      0.89      0.90       667\n",
      "\n"
     ]
    }
   ],
   "source": [
    "## Building the model\n",
    "Ada_md = AdaBoostClassifier(base_estimator = DecisionTreeClassifier(max_depth = 3), n_estimators = 500, learning_rate = 0.01).fit(X_smote, Y_smote)\n",
    "\n",
    "## Predicting on the test\n",
    "Ada_pred = Ada_md.predict_proba(X_test)[:, 1]\n",
    "\n",
    "## ROC\n",
    "fpr, tpr, threshold = roc_curve(Y_test, Ada_pred)\n",
    "\n",
    "## Finding the optimal cutoff\n",
    "Ada_cutoff = pd.DataFrame({'FPR': fpr, 'TPR': tpr, 'Cutoff': threshold})\n",
    "\n",
    "## Computing the distance to perfect model\n",
    "Ada_cutoff['Distance'] = np.sqrt(Ada_cutoff['FPR']**2 + (1 - Ada_cutoff['TPR']**2))\n",
    "\n",
    "## Sorting\n",
    "Ada_cutoff = Ada_cutoff.sort_values(by = 'Distance').reset_index(drop = True)\n",
    "\n",
    "## Changing likelihoods to labels\n",
    "Ada_pred_label = np.where(Ada_pred < Ada_cutoff['Cutoff'][0], 0, 1)\n",
    "\n",
    "## Classification report\n",
    "print(classification_report(Y_test, Ada_pred_label))"
   ]
  },
  {
   "cell_type": "code",
   "execution_count": null,
   "id": "2fcc9766-64a3-4995-bb9a-904c49649e36",
   "metadata": {},
   "outputs": [],
   "source": [
    "## Based on my results, I would use AdaBoost to predict customer churn."
   ]
  }
 ],
 "metadata": {
  "kernelspec": {
   "display_name": "conda_python3",
   "language": "python",
   "name": "conda_python3"
  },
  "language_info": {
   "codemirror_mode": {
    "name": "ipython",
    "version": 3
   },
   "file_extension": ".py",
   "mimetype": "text/x-python",
   "name": "python",
   "nbconvert_exporter": "python",
   "pygments_lexer": "ipython3",
   "version": "3.10.6"
  }
 },
 "nbformat": 4,
 "nbformat_minor": 5
}
