{
 "cells": [
  {
   "cell_type": "code",
   "execution_count": 1,
   "id": "37f69648-c252-47f0-b067-062a74c5b06f",
   "metadata": {
    "tags": []
   },
   "outputs": [
    {
     "name": "stderr",
     "output_type": "stream",
     "text": [
      "/tmp/ipykernel_19955/2426997072.py:16: DeprecationWarning: `import pandas_profiling` is going to be deprecated by April 1st. Please use `import ydata_profiling` instead.\n",
      "  from pandas_profiling import ProfileReport\n"
     ]
    }
   ],
   "source": [
    "# Imports\n",
    "import boto3\n",
    "import pandas as pd\n",
    "import numpy as np\n",
    "import matplotlib.pyplot as plt\n",
    "import seaborn as sns\n",
    "\n",
    "from sklearn.preprocessing import MinMaxScaler\n",
    "from sklearn.model_selection import train_test_split, GridSearchCV\n",
    "from sklearn.metrics import classification_report\n",
    "from sklearn.tree import DecisionTreeClassifier, DecisionTreeRegressor, plot_tree\n",
    "from sklearn.ensemble import RandomForestClassifier, RandomForestRegressor, GradientBoostingRegressor, AdaBoostRegressor\n",
    "from sklearn.linear_model import LogisticRegression\n",
    "from sklearn.svm import SVR\n",
    "from sklearn.feature_selection import RFE, RFECV\n",
    "from pandas_profiling import ProfileReport\n",
    "from sklearn.metrics import mean_squared_error\n",
    "from sklearn.impute import SimpleImputer, KNNImputer"
   ]
  },
  {
   "cell_type": "code",
   "execution_count": 2,
   "id": "907ae620-7877-4d3e-9808-98a11574ec71",
   "metadata": {
    "tags": []
   },
   "outputs": [
    {
     "data": {
      "text/html": [
       "<div>\n",
       "<style scoped>\n",
       "    .dataframe tbody tr th:only-of-type {\n",
       "        vertical-align: middle;\n",
       "    }\n",
       "\n",
       "    .dataframe tbody tr th {\n",
       "        vertical-align: top;\n",
       "    }\n",
       "\n",
       "    .dataframe thead th {\n",
       "        text-align: right;\n",
       "    }\n",
       "</style>\n",
       "<table border=\"1\" class=\"dataframe\">\n",
       "  <thead>\n",
       "    <tr style=\"text-align: right;\">\n",
       "      <th></th>\n",
       "      <th>CustomerID</th>\n",
       "      <th>Gender</th>\n",
       "      <th>Age</th>\n",
       "      <th>Annual Income ($)</th>\n",
       "      <th>Spending Score (1-100)</th>\n",
       "      <th>Profession</th>\n",
       "      <th>Work Experience</th>\n",
       "      <th>Family Size</th>\n",
       "    </tr>\n",
       "  </thead>\n",
       "  <tbody>\n",
       "    <tr>\n",
       "      <th>0</th>\n",
       "      <td>1</td>\n",
       "      <td>Male</td>\n",
       "      <td>19</td>\n",
       "      <td>15000</td>\n",
       "      <td>39</td>\n",
       "      <td>Healthcare</td>\n",
       "      <td>1</td>\n",
       "      <td>4</td>\n",
       "    </tr>\n",
       "    <tr>\n",
       "      <th>1</th>\n",
       "      <td>2</td>\n",
       "      <td>Male</td>\n",
       "      <td>21</td>\n",
       "      <td>35000</td>\n",
       "      <td>81</td>\n",
       "      <td>Engineer</td>\n",
       "      <td>3</td>\n",
       "      <td>3</td>\n",
       "    </tr>\n",
       "    <tr>\n",
       "      <th>2</th>\n",
       "      <td>3</td>\n",
       "      <td>Female</td>\n",
       "      <td>20</td>\n",
       "      <td>86000</td>\n",
       "      <td>6</td>\n",
       "      <td>Engineer</td>\n",
       "      <td>1</td>\n",
       "      <td>1</td>\n",
       "    </tr>\n",
       "    <tr>\n",
       "      <th>3</th>\n",
       "      <td>4</td>\n",
       "      <td>Female</td>\n",
       "      <td>23</td>\n",
       "      <td>59000</td>\n",
       "      <td>77</td>\n",
       "      <td>Lawyer</td>\n",
       "      <td>0</td>\n",
       "      <td>2</td>\n",
       "    </tr>\n",
       "    <tr>\n",
       "      <th>4</th>\n",
       "      <td>5</td>\n",
       "      <td>Female</td>\n",
       "      <td>31</td>\n",
       "      <td>38000</td>\n",
       "      <td>40</td>\n",
       "      <td>Entertainment</td>\n",
       "      <td>2</td>\n",
       "      <td>6</td>\n",
       "    </tr>\n",
       "  </tbody>\n",
       "</table>\n",
       "</div>"
      ],
      "text/plain": [
       "   CustomerID  Gender  Age  Annual Income ($)  Spending Score (1-100)  \\\n",
       "0           1    Male   19              15000                      39   \n",
       "1           2    Male   21              35000                      81   \n",
       "2           3  Female   20              86000                       6   \n",
       "3           4  Female   23              59000                      77   \n",
       "4           5  Female   31              38000                      40   \n",
       "\n",
       "      Profession  Work Experience  Family Size  \n",
       "0     Healthcare                1            4  \n",
       "1       Engineer                3            3  \n",
       "2       Engineer                1            1  \n",
       "3         Lawyer                0            2  \n",
       "4  Entertainment                2            6  "
      ]
     },
     "execution_count": 2,
     "metadata": {},
     "output_type": "execute_result"
    }
   ],
   "source": [
    "#\n",
    "s3= boto3.resource('s3')\n",
    "bucket_name= 'omar-vargas-bucket'\n",
    "bucket= s3.Bucket(bucket_name)\n",
    "\n",
    "file_key= 'Customers.csv'\n",
    "\n",
    "bucket_object= bucket.Object(file_key)\n",
    "file_object = bucket_object.get()\n",
    "file_content_stream = file_object.get('Body')\n",
    "\n",
    "## Reading the data\n",
    "customers = pd.read_csv(file_content_stream)\n",
    "customers.head()"
   ]
  },
  {
   "cell_type": "code",
   "execution_count": 3,
   "id": "1b812674-3612-4d31-94e6-6be832d6b4d9",
   "metadata": {
    "tags": []
   },
   "outputs": [
    {
     "data": {
      "text/html": [
       "<div>\n",
       "<style scoped>\n",
       "    .dataframe tbody tr th:only-of-type {\n",
       "        vertical-align: middle;\n",
       "    }\n",
       "\n",
       "    .dataframe tbody tr th {\n",
       "        vertical-align: top;\n",
       "    }\n",
       "\n",
       "    .dataframe thead th {\n",
       "        text-align: right;\n",
       "    }\n",
       "</style>\n",
       "<table border=\"1\" class=\"dataframe\">\n",
       "  <thead>\n",
       "    <tr style=\"text-align: right;\">\n",
       "      <th></th>\n",
       "      <th>Gender</th>\n",
       "      <th>Age</th>\n",
       "      <th>Annual Income ($)</th>\n",
       "      <th>Spending Score (1-100)</th>\n",
       "      <th>Profession</th>\n",
       "      <th>Work Experience</th>\n",
       "      <th>Family Size</th>\n",
       "    </tr>\n",
       "  </thead>\n",
       "  <tbody>\n",
       "    <tr>\n",
       "      <th>0</th>\n",
       "      <td>Male</td>\n",
       "      <td>19</td>\n",
       "      <td>15000</td>\n",
       "      <td>39</td>\n",
       "      <td>Healthcare</td>\n",
       "      <td>1</td>\n",
       "      <td>4</td>\n",
       "    </tr>\n",
       "    <tr>\n",
       "      <th>1</th>\n",
       "      <td>Male</td>\n",
       "      <td>21</td>\n",
       "      <td>35000</td>\n",
       "      <td>81</td>\n",
       "      <td>Engineer</td>\n",
       "      <td>3</td>\n",
       "      <td>3</td>\n",
       "    </tr>\n",
       "    <tr>\n",
       "      <th>2</th>\n",
       "      <td>Female</td>\n",
       "      <td>20</td>\n",
       "      <td>86000</td>\n",
       "      <td>6</td>\n",
       "      <td>Engineer</td>\n",
       "      <td>1</td>\n",
       "      <td>1</td>\n",
       "    </tr>\n",
       "    <tr>\n",
       "      <th>3</th>\n",
       "      <td>Female</td>\n",
       "      <td>23</td>\n",
       "      <td>59000</td>\n",
       "      <td>77</td>\n",
       "      <td>Lawyer</td>\n",
       "      <td>0</td>\n",
       "      <td>2</td>\n",
       "    </tr>\n",
       "    <tr>\n",
       "      <th>4</th>\n",
       "      <td>Female</td>\n",
       "      <td>31</td>\n",
       "      <td>38000</td>\n",
       "      <td>40</td>\n",
       "      <td>Entertainment</td>\n",
       "      <td>2</td>\n",
       "      <td>6</td>\n",
       "    </tr>\n",
       "  </tbody>\n",
       "</table>\n",
       "</div>"
      ],
      "text/plain": [
       "   Gender  Age  Annual Income ($)  Spending Score (1-100)     Profession  \\\n",
       "0    Male   19              15000                      39     Healthcare   \n",
       "1    Male   21              35000                      81       Engineer   \n",
       "2  Female   20              86000                       6       Engineer   \n",
       "3  Female   23              59000                      77         Lawyer   \n",
       "4  Female   31              38000                      40  Entertainment   \n",
       "\n",
       "   Work Experience  Family Size  \n",
       "0                1            4  \n",
       "1                3            3  \n",
       "2                1            1  \n",
       "3                0            2  \n",
       "4                2            6  "
      ]
     },
     "execution_count": 3,
     "metadata": {},
     "output_type": "execute_result"
    }
   ],
   "source": [
    "customers = customers.drop(columns='CustomerID')\n",
    "customers.head()"
   ]
  },
  {
   "cell_type": "code",
   "execution_count": 4,
   "id": "b8f69c35-79cf-449f-af38-cdba8be0bbc9",
   "metadata": {
    "tags": []
   },
   "outputs": [
    {
     "data": {
      "text/html": [
       "<div>\n",
       "<style scoped>\n",
       "    .dataframe tbody tr th:only-of-type {\n",
       "        vertical-align: middle;\n",
       "    }\n",
       "\n",
       "    .dataframe tbody tr th {\n",
       "        vertical-align: top;\n",
       "    }\n",
       "\n",
       "    .dataframe thead th {\n",
       "        text-align: right;\n",
       "    }\n",
       "</style>\n",
       "<table border=\"1\" class=\"dataframe\">\n",
       "  <thead>\n",
       "    <tr style=\"text-align: right;\">\n",
       "      <th></th>\n",
       "      <th>Age</th>\n",
       "      <th>Annual Income ($)</th>\n",
       "      <th>Spending Score (1-100)</th>\n",
       "      <th>Work Experience</th>\n",
       "      <th>Family Size</th>\n",
       "      <th>Gender_Female</th>\n",
       "      <th>Gender_Male</th>\n",
       "      <th>Profession_Artist</th>\n",
       "      <th>Profession_Doctor</th>\n",
       "      <th>Profession_Engineer</th>\n",
       "      <th>Profession_Entertainment</th>\n",
       "      <th>Profession_Executive</th>\n",
       "      <th>Profession_Healthcare</th>\n",
       "      <th>Profession_Homemaker</th>\n",
       "      <th>Profession_Lawyer</th>\n",
       "      <th>Profession_Marketing</th>\n",
       "    </tr>\n",
       "  </thead>\n",
       "  <tbody>\n",
       "    <tr>\n",
       "      <th>0</th>\n",
       "      <td>19</td>\n",
       "      <td>15000</td>\n",
       "      <td>39</td>\n",
       "      <td>1</td>\n",
       "      <td>4</td>\n",
       "      <td>0</td>\n",
       "      <td>1</td>\n",
       "      <td>0</td>\n",
       "      <td>0</td>\n",
       "      <td>0</td>\n",
       "      <td>0</td>\n",
       "      <td>0</td>\n",
       "      <td>1</td>\n",
       "      <td>0</td>\n",
       "      <td>0</td>\n",
       "      <td>0</td>\n",
       "    </tr>\n",
       "    <tr>\n",
       "      <th>1</th>\n",
       "      <td>21</td>\n",
       "      <td>35000</td>\n",
       "      <td>81</td>\n",
       "      <td>3</td>\n",
       "      <td>3</td>\n",
       "      <td>0</td>\n",
       "      <td>1</td>\n",
       "      <td>0</td>\n",
       "      <td>0</td>\n",
       "      <td>1</td>\n",
       "      <td>0</td>\n",
       "      <td>0</td>\n",
       "      <td>0</td>\n",
       "      <td>0</td>\n",
       "      <td>0</td>\n",
       "      <td>0</td>\n",
       "    </tr>\n",
       "    <tr>\n",
       "      <th>2</th>\n",
       "      <td>20</td>\n",
       "      <td>86000</td>\n",
       "      <td>6</td>\n",
       "      <td>1</td>\n",
       "      <td>1</td>\n",
       "      <td>1</td>\n",
       "      <td>0</td>\n",
       "      <td>0</td>\n",
       "      <td>0</td>\n",
       "      <td>1</td>\n",
       "      <td>0</td>\n",
       "      <td>0</td>\n",
       "      <td>0</td>\n",
       "      <td>0</td>\n",
       "      <td>0</td>\n",
       "      <td>0</td>\n",
       "    </tr>\n",
       "    <tr>\n",
       "      <th>3</th>\n",
       "      <td>23</td>\n",
       "      <td>59000</td>\n",
       "      <td>77</td>\n",
       "      <td>0</td>\n",
       "      <td>2</td>\n",
       "      <td>1</td>\n",
       "      <td>0</td>\n",
       "      <td>0</td>\n",
       "      <td>0</td>\n",
       "      <td>0</td>\n",
       "      <td>0</td>\n",
       "      <td>0</td>\n",
       "      <td>0</td>\n",
       "      <td>0</td>\n",
       "      <td>1</td>\n",
       "      <td>0</td>\n",
       "    </tr>\n",
       "    <tr>\n",
       "      <th>4</th>\n",
       "      <td>31</td>\n",
       "      <td>38000</td>\n",
       "      <td>40</td>\n",
       "      <td>2</td>\n",
       "      <td>6</td>\n",
       "      <td>1</td>\n",
       "      <td>0</td>\n",
       "      <td>0</td>\n",
       "      <td>0</td>\n",
       "      <td>0</td>\n",
       "      <td>1</td>\n",
       "      <td>0</td>\n",
       "      <td>0</td>\n",
       "      <td>0</td>\n",
       "      <td>0</td>\n",
       "      <td>0</td>\n",
       "    </tr>\n",
       "  </tbody>\n",
       "</table>\n",
       "</div>"
      ],
      "text/plain": [
       "   Age  Annual Income ($)  Spending Score (1-100)  Work Experience  \\\n",
       "0   19              15000                      39                1   \n",
       "1   21              35000                      81                3   \n",
       "2   20              86000                       6                1   \n",
       "3   23              59000                      77                0   \n",
       "4   31              38000                      40                2   \n",
       "\n",
       "   Family Size  Gender_Female  Gender_Male  Profession_Artist  \\\n",
       "0            4              0            1                  0   \n",
       "1            3              0            1                  0   \n",
       "2            1              1            0                  0   \n",
       "3            2              1            0                  0   \n",
       "4            6              1            0                  0   \n",
       "\n",
       "   Profession_Doctor  Profession_Engineer  Profession_Entertainment  \\\n",
       "0                  0                    0                         0   \n",
       "1                  0                    1                         0   \n",
       "2                  0                    1                         0   \n",
       "3                  0                    0                         0   \n",
       "4                  0                    0                         1   \n",
       "\n",
       "   Profession_Executive  Profession_Healthcare  Profession_Homemaker  \\\n",
       "0                     0                      1                     0   \n",
       "1                     0                      0                     0   \n",
       "2                     0                      0                     0   \n",
       "3                     0                      0                     0   \n",
       "4                     0                      0                     0   \n",
       "\n",
       "   Profession_Lawyer  Profession_Marketing  \n",
       "0                  0                     0  \n",
       "1                  0                     0  \n",
       "2                  0                     0  \n",
       "3                  1                     0  \n",
       "4                  0                     0  "
      ]
     },
     "execution_count": 4,
     "metadata": {},
     "output_type": "execute_result"
    }
   ],
   "source": [
    "# Changing gender and profession to dummy variables\n",
    "customers = pd.concat([customers.drop(columns=['Gender', 'Profession'], axis=1), pd.get_dummies(customers[['Gender', 'Profession']])], axis=1)\n",
    "customers.head()"
   ]
  },
  {
   "cell_type": "code",
   "execution_count": 5,
   "id": "1e6ea656-6764-4013-990f-97efe784edca",
   "metadata": {
    "tags": []
   },
   "outputs": [],
   "source": [
    "# Splitting the data into training and testing sets\n",
    "train, test = train_test_split(customers, test_size=0.2, stratify = customers['Spending Score (1-100)'])"
   ]
  },
  {
   "cell_type": "code",
   "execution_count": 6,
   "id": "247fefca-9cb4-4ff5-a1e6-b197490fec4b",
   "metadata": {
    "tags": []
   },
   "outputs": [
    {
     "data": {
      "text/plain": [
       "False"
      ]
     },
     "execution_count": 6,
     "metadata": {},
     "output_type": "execute_result"
    }
   ],
   "source": [
    "train.isna().any().any()"
   ]
  },
  {
   "cell_type": "code",
   "execution_count": 7,
   "id": "7cd6a302-68e1-4482-9ce2-b199772bf6a8",
   "metadata": {
    "tags": []
   },
   "outputs": [],
   "source": [
    "# Checking for importance features with Random Forest\n",
    "importances = list()\n",
    "for i in range (0,10):\n",
    "    # Defining the input and target variables\n",
    "    x = train.drop(columns = 'Spending Score (1-100)', axis = 1)\n",
    "    y = train['Spending Score (1-100)']\n",
    "\n",
    "    #Splitting the data\n",
    "    x_train, x_test, y_train, y_test= train_test_split(x, y, test_size = .2, stratify = y)\n",
    "\n",
    "    #Building Model\n",
    "    RF_md = RandomForestClassifier(n_estimators = 500, max_depth = 3).fit(x_train, y_train)\n",
    "    \n",
    "    #Extracting the feature importances\n",
    "    importances.append(RF_md.feature_importances_)"
   ]
  },
  {
   "cell_type": "code",
   "execution_count": 8,
   "id": "42feddf4-048d-4365-a573-3f2844fe030c",
   "metadata": {
    "tags": []
   },
   "outputs": [],
   "source": [
    "#Engineering interactions based on feature importance\n",
    "train['interaction_1'] = train['Age'] * train['Annual Income ($)']\n",
    "train['interaction_2'] = train['Age'] * train['Work Experience']\n",
    "train['interaction_3'] = train['Annual Income ($)'] * train['Work Experience']\n",
    "\n",
    "test['interaction_1'] = test['Age'] * test['Annual Income ($)']\n",
    "test['interaction_2'] = test['Age'] * test['Work Experience']\n",
    "test['interaction_3'] = test['Annual Income ($)'] * test['Work Experience']"
   ]
  },
  {
   "cell_type": "code",
   "execution_count": 9,
   "id": "f83a961d-a85f-49f3-a4e8-48cf785ac8ae",
   "metadata": {
    "tags": []
   },
   "outputs": [],
   "source": [
    "#engineering features from the decisoon tree model\n",
    "train['interaction_4']=np.where(((train['interaction_3'] <= 1136343.0) &\n",
    "                                   (train['Annual Income ($)'] <= 72185.5) &\n",
    "                                    (train['Annual Income ($)'] <= 72944.5)), 1, 0)\n",
    "                                 \n",
    "train['interaction_5']=np.where(((train['Annual Income ($)'] <= 138199.0) &\n",
    "                                   (train['Work Experience'] <= 12.5) &\n",
    "                                (train['Annual Income ($)'] <= 187540.5)), 1, 0)"
   ]
  },
  {
   "cell_type": "code",
   "execution_count": 10,
   "id": "1f7c0ef7-3b54-4f03-a9bf-76282fabbaf7",
   "metadata": {
    "tags": []
   },
   "outputs": [],
   "source": [
    "# Defining input and target variables\n",
    "x_train1 = train[['Annual Income ($)', 'interaction_3', 'interaction_2', 'Work Experience', 'Age']]\n",
    "x_test1 = test[['Annual Income ($)', 'interaction_3', 'interaction_2', 'Work Experience', 'Age']]"
   ]
  },
  {
   "cell_type": "code",
   "execution_count": 11,
   "id": "5e81ce97-9bc6-4a44-838e-1afa2a6345a4",
   "metadata": {
    "tags": []
   },
   "outputs": [],
   "source": [
    "# Defining input and target variables\n",
    "x_train2 = train[['Annual Income ($)', 'interaction_3', 'interaction_2', 'Work Experience', 'Age', 'interaction_1']]\n",
    "x_test2 = test[['Annual Income ($)', 'interaction_3', 'interaction_2', 'Work Experience', 'Age', 'interaction_1']]"
   ]
  },
  {
   "cell_type": "code",
   "execution_count": 12,
   "id": "a2dfcd61-04aa-430e-bb9f-256f4e1ba94f",
   "metadata": {
    "tags": []
   },
   "outputs": [
    {
     "name": "stdout",
     "output_type": "stream",
     "text": [
      "RMSE of model 1 is: 27.8746754605779\n"
     ]
    }
   ],
   "source": [
    "# Building first Random Forest model\n",
    "rf_md1 = RandomForestRegressor(n_estimators = 500 , max_depth = 3, min_samples_leaf = 5, min_samples_split = 10).fit(x_train1, train['Spending Score (1-100)'])\n",
    "\n",
    "# Predicting on test\n",
    "rf_pred1 = rf_md1.predict(x_test1)\n",
    "\n",
    "# Changing likelihoods to labels\n",
    "rf_label1 = mean_squared_error(test['Spending Score (1-100)'], rf_pred1)\n",
    "rmse1 = np.sqrt(rf_label1)\n",
    "\n",
    "print('RMSE of model 1 is:', rmse1)"
   ]
  },
  {
   "cell_type": "code",
   "execution_count": 13,
   "id": "2876c9db-5f77-438f-b307-4b75314e04c3",
   "metadata": {
    "tags": []
   },
   "outputs": [
    {
     "name": "stdout",
     "output_type": "stream",
     "text": [
      "RMSE of model 2 is: 27.82023592780519\n"
     ]
    }
   ],
   "source": [
    "# Building second Random Forest model\n",
    "rf_md2 = RandomForestRegressor(n_estimators = 500 , max_depth = 3, min_samples_leaf = 5, min_samples_split = 10).fit(x_train2, train['Spending Score (1-100)'])\n",
    "\n",
    "# Predicting on test\n",
    "rf_pred2 = rf_md2.predict(x_test2)\n",
    "\n",
    "# Changing likelihoods to labels\n",
    "rf_label2 = mean_squared_error(test['Spending Score (1-100)'], rf_pred2)\n",
    "rmse2 = np.sqrt(rf_label2)\n",
    "\n",
    "print('RMSE of model 2 is:', rmse2)"
   ]
  },
  {
   "cell_type": "code",
   "execution_count": null,
   "id": "b54960bf-2d90-4759-90e4-64a4be300d3e",
   "metadata": {},
   "outputs": [],
   "source": [
    "# Based on my results I would use the second model to predict Spending Score as it had a lower RMSE. But barely at that."
   ]
  }
 ],
 "metadata": {
  "kernelspec": {
   "display_name": "conda_python3",
   "language": "python",
   "name": "conda_python3"
  },
  "language_info": {
   "codemirror_mode": {
    "name": "ipython",
    "version": 3
   },
   "file_extension": ".py",
   "mimetype": "text/x-python",
   "name": "python",
   "nbconvert_exporter": "python",
   "pygments_lexer": "ipython3",
   "version": "3.10.8"
  }
 },
 "nbformat": 4,
 "nbformat_minor": 5
}
